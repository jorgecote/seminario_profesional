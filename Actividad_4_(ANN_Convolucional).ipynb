{
  "nbformat": 4,
  "nbformat_minor": 0,
  "metadata": {
    "colab": {
      "provenance": [],
      "authorship_tag": "ABX9TyPb61P7Iyz1MARZp0ALmEal",
      "include_colab_link": true
    },
    "kernelspec": {
      "name": "python3",
      "display_name": "Python 3"
    },
    "language_info": {
      "name": "python"
    }
  },
  "cells": [
    {
      "cell_type": "markdown",
      "metadata": {
        "id": "view-in-github",
        "colab_type": "text"
      },
      "source": [
        "<a href=\"https://colab.research.google.com/github/jorgecote/seminario_profesional/blob/main/Actividad_4_(ANN_Convolucional).ipynb\" target=\"_parent\"><img src=\"https://colab.research.google.com/assets/colab-badge.svg\" alt=\"Open In Colab\"/></a>"
      ]
    },
    {
      "cell_type": "markdown",
      "source": [
        "# ACTIVIDAD 4: ANN Convolucional"
      ],
      "metadata": {
        "id": "AOp0OrTJt7Og"
      }
    },
    {
      "cell_type": "markdown",
      "source": [
        "## Redes neuronales convolucionales\n",
        "\n",
        "Crear modelos secuencial y funcional que incluyan capas convolucionales utilizando el conjunto de datos CIFAR-10. Ajuste la(s) convolucional(es) hasta lograr el mejor desempeño posible"
      ],
      "metadata": {
        "id": "dtQ4d0qtuS27"
      }
    },
    {
      "cell_type": "code",
      "source": [
        "modelo =          # HACER"
      ],
      "metadata": {
        "id": "s4nuM7sc83qM"
      },
      "execution_count": null,
      "outputs": []
    }
  ]
}