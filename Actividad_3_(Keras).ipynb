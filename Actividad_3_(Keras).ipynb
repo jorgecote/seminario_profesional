{
  "nbformat": 4,
  "nbformat_minor": 0,
  "metadata": {
    "colab": {
      "provenance": [],
      "authorship_tag": "ABX9TyN4VSZlsNmonKqtLidRt3MT",
      "include_colab_link": true
    },
    "kernelspec": {
      "name": "python3",
      "display_name": "Python 3"
    },
    "language_info": {
      "name": "python"
    }
  },
  "cells": [
    {
      "cell_type": "markdown",
      "metadata": {
        "id": "view-in-github",
        "colab_type": "text"
      },
      "source": [
        "<a href=\"https://colab.research.google.com/github/jorgecote/seminario_profesional/blob/main/Actividad_3_(Keras).ipynb\" target=\"_parent\"><img src=\"https://colab.research.google.com/assets/colab-badge.svg\" alt=\"Open In Colab\"/></a>"
      ]
    },
    {
      "cell_type": "markdown",
      "source": [
        "# Actividad 3: Keras\n",
        "\n",
        "Keras es una biblioteca de alto nivel de aprendizaje automático para construir redes neuronales. Está escrita en Python y se puede ejecutar sobre diferentes frameworks, como TensorFlow, Theano o Microsoft Cognitive Toolkit.\n",
        "\n",
        "Keras es una biblioteca modular, lo que significa que se puede utilizar para construir redes neuronales de cualquier complejidad. Proporciona una amplia gama de capas y funciones, lo que facilita la creación de modelos personalizados.\n",
        "\n",
        "Keras también es una biblioteca muy flexible. Se puede utilizar para una amplia gama de tareas de aprendizaje automático, como clasificación, regresión, detección de objetos y procesamiento del lenguaje natural.\n",
        "\n",
        "En resumen, Keras es una biblioteca poderosa y flexible que permite a los usuarios construir redes neuronales de forma rápida y sencilla.\n",
        "\n",
        "Algunas de las características clave de Keras:\n",
        "\n",
        "* Alto nivel: Keras proporciona una API de alto nivel que simplifica la construcción de redes neuronales.\n",
        "* Modularidad: Keras es una biblioteca modular, lo que significa que se puede utilizar para construir redes neuronales de cualquier complejidad.\n",
        "* Flexibilidad: Keras se puede utilizar para una amplia gama de tareas de aprendizaje automático.\n",
        "* Eficiencia: Keras está diseñado para ser eficiente en términos de recursos.\n",
        "Keras es una biblioteca popular entre los investigadores y desarrolladores de aprendizaje automático. Se utiliza en una amplia gama de aplicaciones, desde el reconocimiento facial hasta la traducción automática."
      ],
      "metadata": {
        "id": "U1e-ftkCaPWd"
      }
    },
    {
      "cell_type": "markdown",
      "source": [
        "## 1.1 Compuerta XOR\n",
        "\n",
        "Crear un modelo secuencial de keras con una sola capa oculta y utilizando la tabla de verdad de la operación XOR. Agregue al modelo un callback que detenga el entrenamiento cuando se alcance un umbral determinado y otro callback que guarde el modelo despues de cada iteración en el entrenamiento\n",
        "\n",
        "Ejecute el modelo ya entrenado y demuestre que el algoritmo aprendió la tabla de verdad"
      ],
      "metadata": {
        "id": "H7O86kiKbVrc"
      }
    },
    {
      "cell_type": "markdown",
      "source": [
        "## 1.2 Conjunto CIFAR-10\n",
        "\n",
        "* Crear y entrenar un modelo secuencial keras de una sola capa oculta que utilice el conjunto de imágenes CIFAR-10\n",
        "* Crear y entrenar un modelo funcional keras de una sola capa oculta que utilice el conjunto de imágenes CIFAR-10\n",
        "* Pruebe el desempeño de los modelos anteriores\n",
        "* Realice variaciones a las funciones de pérdidas, funciones de activación y optimizadores hasta encontrar el mejor resultado"
      ],
      "metadata": {
        "id": "dHCh7Qbvgybi"
      }
    },
    {
      "cell_type": "markdown",
      "source": [
        "* Agregue nuevas capas ocultas para mejorar el desempeño de los modelos anteriores"
      ],
      "metadata": {
        "id": "YDenKJspr16N"
      }
    }
  ]
}