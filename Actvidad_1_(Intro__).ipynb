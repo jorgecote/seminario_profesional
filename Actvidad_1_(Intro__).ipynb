{
  "nbformat": 4,
  "nbformat_minor": 0,
  "metadata": {
    "colab": {
      "provenance": [],
      "authorship_tag": "ABX9TyPOAHO7G8+j0Qympo5f2yYc",
      "include_colab_link": true
    },
    "kernelspec": {
      "name": "python3",
      "display_name": "Python 3"
    },
    "language_info": {
      "name": "python"
    }
  },
  "cells": [
    {
      "cell_type": "markdown",
      "metadata": {
        "id": "view-in-github",
        "colab_type": "text"
      },
      "source": [
        "<a href=\"https://colab.research.google.com/github/jorgecote/seminario_profesional/blob/main/Actvidad_1_(Intro__).ipynb\" target=\"_parent\"><img src=\"https://colab.research.google.com/assets/colab-badge.svg\" alt=\"Open In Colab\"/></a>"
      ]
    },
    {
      "cell_type": "markdown",
      "source": [
        "# Actividad 1: Introducción a TensorFlow\n",
        "\n",
        "En esta actividad usted tendrá su primera aproximación al uso de TensorFlow y aprender como puede ser usado para solucionar problemas de machine learning. Corra las celdas de codigo del presente archivo. En algunas de las celdas encontrará bloques ***HACER*** siga las instrucciones para completar el código y ejecuta las eldas para ir continuando\n",
        "\n",
        "## Instalación tensorflow\n",
        "\n",
        "TensorFlow es una biblioteca de software ampliamente utilizada en aprendizaje automático. Aquí aprenderemos cómo se representan los cálculos y las ventajas en el manejo de grandes volumenes de datos. Para todas las actividades de este archivo, usaremos la última versión de TensorFlow, TensorFlow 2, que ofrece una gran flexibilidad y la capacidad de ejecutar operaciones de manera imperativa, como en Python. Notarás que TensorFlow 2 es bastante similar a Python en su sintaxis y ejecución imperativa."
      ],
      "metadata": {
        "id": "l8yD44T_nY62"
      }
    },
    {
      "cell_type": "code",
      "execution_count": null,
      "metadata": {
        "id": "TtQrar5anOsP"
      },
      "outputs": [],
      "source": [
        "# Verificando versión de TensorFlow\n",
        "\n",
        "import tensorflow as tf\n",
        "\n",
        "print(\"Versión de TensorFlow:\", tf.__version__)"
      ]
    },
    {
      "cell_type": "markdown",
      "source": [
        "## Actividad"
      ],
      "metadata": {
        "id": "J0TF9T7zniF0"
      }
    },
    {
      "cell_type": "code",
      "source": [
        "'''Crear un tensor que contenga valores desde -100 hasta  100 en pasos de 4 (Ej. [-100, -96, -92, -88....])'''\n",
        "X =             #HACER"
      ],
      "metadata": {
        "id": "AMWPtKBznkwL"
      },
      "execution_count": null,
      "outputs": []
    },
    {
      "cell_type": "code",
      "source": [
        "'''Crear un tensor que contenga los valores del tensor anterior sumados en 10'''\n",
        "y =             #HACER"
      ],
      "metadata": {
        "id": "QMgjJ12IoXL3"
      },
      "execution_count": null,
      "outputs": []
    },
    {
      "cell_type": "code",
      "source": [
        "'''Investigar las fórmulas para calcular la pendiente y el punto de corte de una regresión lineal realizada por el método de mínimos cuadrados\n",
        "Realice el cálculo correspondiente utilizando solamente las operaciones básicas suma, resta, multiplicación, división, potencias, etc'''\n",
        "m =             #HACER\n",
        "b =             #HACER"
      ],
      "metadata": {
        "id": "PshYdzoVowQI"
      },
      "execution_count": null,
      "outputs": []
    },
    {
      "cell_type": "code",
      "source": [
        "'''Utilizando el vector X declarado anteriormente realice la predicción de los resultados a partir de la recta obtenida por medio de la regesión lineal\n",
        "Realice el cálculo correspondiente utilizando solamente las operaciones básicas suma, resta, multiplicación, división, potencias, etc'''\n",
        "y_pred =         #HACER"
      ],
      "metadata": {
        "id": "j_f606goo7vB"
      },
      "execution_count": null,
      "outputs": []
    },
    {
      "cell_type": "code",
      "source": [
        "'''Calcule el error cuadrático medio (MSE) del modelo\n",
        "Realice el cálculo correspondiente utilizando solamente las operaciones básicas suma, resta, multiplicación, división, potencias, raíz cuadrada, etc'''\n",
        "mse =            #HACER"
      ],
      "metadata": {
        "id": "Om4EtdzGpK8L"
      },
      "execution_count": null,
      "outputs": []
    }
  ]
}